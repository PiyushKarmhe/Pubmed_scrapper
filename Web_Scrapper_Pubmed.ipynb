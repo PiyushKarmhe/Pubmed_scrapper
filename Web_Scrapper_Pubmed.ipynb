{
 "cells": [
  {
   "cell_type": "code",
   "execution_count": null,
   "id": "9da41e8f",
   "metadata": {},
   "outputs": [],
   "source": [
    "!pip3 install selenium"
   ]
  },
  {
   "cell_type": "code",
   "execution_count": 115,
   "id": "80d3a3fd",
   "metadata": {},
   "outputs": [],
   "source": [
    "from selenium import webdriver\n",
    "from selenium.webdriver.chrome.options import Options\n",
    "from selenium.webdriver.common.keys import Keys\n",
    "from selenium.webdriver.common.by import By\n",
    "from selenium.webdriver.common.action_chains import ActionChains\n",
    "import re\n",
    "import time\n",
    "import pandas as pd"
   ]
  },
  {
   "cell_type": "code",
   "execution_count": 134,
   "id": "058392e7",
   "metadata": {},
   "outputs": [],
   "source": [
    "# Term u want to search for. eg 'breast'\n",
    "term = \"breast\"\n",
    "# No of Papers u want to search 1,10,100 .\n",
    "pages = \"5\"\n",
    "# Keywords u want to check for eg if u want to find [\"Breast cancer\",\"Breast size\",\"Epidemiology\",\"Risk reduction\"]\n",
    "# then write keywords seperated by comma Breast cancer, Breast size, Epidemiology, Risk reduction\n",
    "keywords = \"Breast cancer, Breast size, Epidemiology, Risk reduction\"\n",
    "# Name of output file\n",
    "output = \"Pubmed\"\n",
    "# Path To chrome drivers\n",
    "path = r'/bin/chromedriver'"
   ]
  },
  {
   "cell_type": "code",
   "execution_count": 135,
   "id": "8df68387",
   "metadata": {},
   "outputs": [],
   "source": [
    "CLEANR = re.compile('<.*?>|&([a-z0-9]+|#[0-9]{1,6}|#x[0-9a-f]{1,6});')\n",
    "def cleanhtml(raw_html):\n",
    "    cleantext = re.sub(CLEANR, '', raw_html)\n",
    "    cleantext = str.lower(cleantext)\n",
    "    return cleantext"
   ]
  },
  {
   "cell_type": "code",
   "execution_count": 136,
   "id": "817a80a6",
   "metadata": {},
   "outputs": [
    {
     "name": "stdout",
     "output_type": "stream",
     "text": [
      "Keywords :  ['breast cancer', 'breast size', 'epidemiology', 'risk reduction']\n",
      "Keywords Dictonary :  {'pmid': [], 'breast cancer': [], 'breast size': [], 'epidemiology': [], 'risk reduction': []}\n"
     ]
    },
    {
     "name": "stderr",
     "output_type": "stream",
     "text": [
      "/tmp/ipykernel_69785/2630301366.py:11: DeprecationWarning: executable_path has been deprecated, please pass in a Service object\n",
      "  driver = webdriver.Chrome(path)\n"
     ]
    },
    {
     "name": "stdout",
     "output_type": "stream",
     "text": [
      "\n",
      "Starting Web Scrapping\n",
      "Term Searching for :  breast\n",
      "Total No of results :  598371\n",
      "No of Records asked to Scan :  5\n",
      "Procedding\n",
      "Index :  1\n",
      "32027563\n",
      "Index :  2\n",
      "24636325\n",
      "Index :  3\n",
      "25456291\n",
      "Index :  4\n",
      "29098159\n",
      "Index :  5\n",
      "30503250\n",
      "\n",
      "\n",
      "Data Frame\n",
      "\n",
      "\n",
      "       pmid  breast cancer  breast size  epidemiology  risk reduction\n",
      "0  32027563              0            0             0               0\n",
      "1  24636325              0            0             0               0\n",
      "2  25456291              1            1             1               1\n",
      "3  29098159              1            0             0               0\n",
      "4  30503250              0            0             0               0\n",
      "\n",
      "Writting data to file  Pubmed .csv\n",
      "\n",
      "\n",
      "!!DONE!!\n"
     ]
    }
   ],
   "source": [
    "keywords = keywords.split(\",\")\n",
    "keywords = list(map(str.lower,keywords))\n",
    "keywords = list(map(str.strip,keywords))\n",
    "print(\"Keywords : \",keywords)\n",
    "keywords_dict = {\"pmid\":[]}\n",
    "for i in keywords:\n",
    "    keywords_dict[i] = []\n",
    "print(\"Keywords Dictonary : \",keywords_dict)\n",
    "pages = int(pages)\n",
    "\n",
    "driver = webdriver.Chrome(path)\n",
    "print(\"\\nStarting Web Scrapping\")\n",
    "print(\"Term Searching for : \",term)\n",
    "driver.get(\"https://pubmed.ncbi.nlm.nih.gov/?term=\"+term)\n",
    "driver.get(\"https://pubmed.ncbi.nlm.nih.gov/?term=\"+term)\n",
    "element = driver.find_element(By.XPATH,\"//span[@class='value']\")\n",
    "results = element.get_attribute('innerHTML').split(\",\")\n",
    "results = \"\".join(results)\n",
    "results = int(results)\n",
    "print(\"Total No of results : \",results)\n",
    "print(\"No of Records asked to Scan : \",pages)\n",
    "if pages <= results:\n",
    "    print(\"Procedding\")\n",
    "else:\n",
    "    pages = results\n",
    "    print(\"No of Records asked to scan is more than present hence scanning only : \",results)\n",
    "element = driver.find_element(By.XPATH,\"//a[@class='docsum-title']\")\n",
    "action = ActionChains(driver)\n",
    "action.click(on_element = element)\n",
    "action.perform()\n",
    "# driver.get(element.get_attribute('href'))\n",
    "for i in range(pages):\n",
    "    print(\"Index : \",(i+1))\n",
    "    element = driver.find_element(By.XPATH,\"//span[@class='identifier pubmed']\")\n",
    "    print(element.find_element(By.TAG_NAME,\"strong\").get_attribute('innerHTML'))\n",
    "    keywords_dict[\"pmid\"].append(element.find_element(By.TAG_NAME,\"strong\").get_attribute('innerHTML'))\n",
    "    element = driver.find_element(By.XPATH,\"//div[@id='abstract']\")\n",
    "    txt = cleanhtml(element.get_attribute('innerHTML'))\n",
    "    for j in keywords:\n",
    "        if txt.find(j) !=-1:\n",
    "            keywords_dict[j].append(1)\n",
    "        else:\n",
    "            keywords_dict[j].append(0)\n",
    "    time.sleep(2)\n",
    "    element = driver.find_element(By.XPATH,\"//div[@class='next side-link visible']\")\n",
    "    action = ActionChains(driver)\n",
    "    action.click(on_element = element)\n",
    "    action.perform()\n",
    "driver.quit()\n",
    "data = pd.DataFrame.from_dict(keywords_dict)\n",
    "print(\"\\n\\nData Frame\\n\\n\")\n",
    "print(data.head())\n",
    "print(\"\\nWritting data to file \",output,\".csv\")\n",
    "data.to_csv(output+\".csv\")\n",
    "print(\"\\n\\n!!DONE!!\")"
   ]
  }
 ],
 "metadata": {
  "kernelspec": {
   "display_name": "Python 3 (ipykernel)",
   "language": "python",
   "name": "python3"
  },
  "language_info": {
   "codemirror_mode": {
    "name": "ipython",
    "version": 3
   },
   "file_extension": ".py",
   "mimetype": "text/x-python",
   "name": "python",
   "nbconvert_exporter": "python",
   "pygments_lexer": "ipython3",
   "version": "3.10.7"
  }
 },
 "nbformat": 4,
 "nbformat_minor": 5
}
